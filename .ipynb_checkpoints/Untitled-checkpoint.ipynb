{
 "cells": [
  {
   "cell_type": "code",
   "execution_count": 2,
   "id": "431bfb20-7694-41b3-a59f-b13504cdf26c",
   "metadata": {},
   "outputs": [],
   "source": [
    "# imports\n",
    "from sklearn import datasets\n",
    "from sklearn.model_selection import train_test_split\n",
    "from sklearn.metrics import accuracy_score\n",
    "import cv2\n",
    "from sklearn.decomposition import PCA\n",
    "from sklearn.preprocessing import StandardScaler\n",
    "from sklearn import preprocessing\n",
    "import matplotlib.pyplot as plt \n",
    "import numpy as np\n",
    "from concurrent.futures import ProcessPoolExecutor\n",
    "from sklearn.svm import SVC\n",
    "from sklearn.model_selection import train_test_split\n",
    "from sklearn.metrics import classification_report, accuracy_score\n",
    "import random\n",
    "\n",
    "\n",
    "# utils\n",
    "\n",
    "import sys\n",
    "import os\n",
    "\n",
    "workspace_dir = os.path.abspath(os.path.join('workspace'))\n",
    "\n",
    "if workspace_dir not in sys.path:\n",
    "    sys.path.append(workspace_dir)\n",
    "\n",
    "from resources import utils\n",
    "from resources.features import extract_features\n",
    "import joblib"
   ]
  },
  {
   "cell_type": "code",
   "execution_count": 3,
   "id": "6dbd4f30-ed31-4c66-b4f0-654885103334",
   "metadata": {},
   "outputs": [],
   "source": [
    "svm, scaler, pca = joblib.load(os.getcwd()+'/presets/Preset1.pkl')"
   ]
  },
  {
   "cell_type": "code",
   "execution_count": null,
   "id": "dc7736e9-563e-4c3d-9912-335eb23f45b4",
   "metadata": {},
   "outputs": [
    {
     "name": "stdout",
     "output_type": "stream",
     "text": [
      "/home/michalis/Documents/Work/MELETI/inspection_client/temp_images/2-274-03-00788\n"
     ]
    }
   ],
   "source": [
    "# step 1: process the folder images and save them in a temporary folder.\n",
    "folder_dir = '/media/michalis/T/2-274-03-00788'\n",
    "\n",
    "temp_dir = os.getcwd() + '/temp_images/' + os.path.basename(folder_dir)\n",
    "\n",
    "os.makedirs(temp_dir, exist_ok=True)\n",
    "\n",
    "print(temp_dir)\n",
    "\n",
    "utils.process_images(folder_dir, temp_dir, 0)"
   ]
  },
  {
   "cell_type": "code",
   "execution_count": null,
   "id": "fa3e606d-8776-4cf9-8e94-d85366dd96ff",
   "metadata": {},
   "outputs": [],
   "source": []
  }
 ],
 "metadata": {
  "kernelspec": {
   "display_name": "Python 3 (ipykernel)",
   "language": "python",
   "name": "python3"
  },
  "language_info": {
   "codemirror_mode": {
    "name": "ipython",
    "version": 3
   },
   "file_extension": ".py",
   "mimetype": "text/x-python",
   "name": "python",
   "nbconvert_exporter": "python",
   "pygments_lexer": "ipython3",
   "version": "3.12.3"
  }
 },
 "nbformat": 4,
 "nbformat_minor": 5
}
